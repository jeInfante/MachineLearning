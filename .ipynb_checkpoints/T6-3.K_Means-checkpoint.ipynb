{
 "cells": [
  {
   "cell_type": "markdown",
   "id": "7b49315f",
   "metadata": {},
   "source": [
    "# El método de k-means"
   ]
  },
  {
   "cell_type": "code",
   "execution_count": 1,
   "id": "e2ce025b",
   "metadata": {},
   "outputs": [],
   "source": [
    "import numpy as np"
   ]
  },
  {
   "cell_type": "code",
   "execution_count": 2,
   "id": "77f73997",
   "metadata": {},
   "outputs": [
    {
     "data": {
      "text/plain": [
       "array([[0.11012135, 0.54310323, 0.72706141],\n",
       "       [0.70768161, 0.56880194, 0.57634643],\n",
       "       [0.70004104, 0.37875412, 0.35245623],\n",
       "       [0.81693687, 0.59521192, 0.6732573 ],\n",
       "       [0.6729321 , 0.81534376, 0.65093349],\n",
       "       [0.86265678, 0.75195461, 0.83484891],\n",
       "       [0.7068635 , 0.22560924, 0.32596513],\n",
       "       [0.98453827, 0.02594154, 0.97294518],\n",
       "       [0.92417695, 0.62152227, 0.43526854],\n",
       "       [0.57509899, 0.10597711, 0.28134898],\n",
       "       [0.6674127 , 0.33655663, 0.10408534],\n",
       "       [0.5628289 , 0.62190202, 0.30204604],\n",
       "       [0.89124535, 0.246514  , 0.91416677],\n",
       "       [0.39209868, 0.7188402 , 0.38984099],\n",
       "       [0.539543  , 0.00557969, 0.92051851],\n",
       "       [0.43550068, 0.11298263, 0.63664777],\n",
       "       [0.14094073, 0.06127514, 0.98541132],\n",
       "       [0.79880946, 0.93042524, 0.47264011],\n",
       "       [0.47964084, 0.14665256, 0.82791016],\n",
       "       [0.67892155, 0.39888876, 0.92437134],\n",
       "       [0.6262285 , 0.22571138, 0.08793747],\n",
       "       [0.07524813, 0.28582146, 0.97140231],\n",
       "       [0.72661771, 0.03138781, 0.12441775],\n",
       "       [0.77524527, 0.09232849, 0.4859625 ],\n",
       "       [0.38376767, 0.92756566, 0.63328559],\n",
       "       [0.80742681, 0.7142426 , 0.9037634 ],\n",
       "       [0.97589286, 0.13418169, 0.32895798],\n",
       "       [0.17813577, 0.98314798, 0.14756803],\n",
       "       [0.52885908, 0.21444293, 0.35616215],\n",
       "       [0.00686851, 0.20568526, 0.78579701]])"
      ]
     },
     "execution_count": 2,
     "metadata": {},
     "output_type": "execute_result"
    }
   ],
   "source": [
    "data = np.random.random(90).reshape(30,3)\n",
    "data"
   ]
  },
  {
   "cell_type": "code",
   "execution_count": 3,
   "id": "78fc10c5",
   "metadata": {},
   "outputs": [
    {
     "data": {
      "text/plain": [
       "array([[0.72661771, 0.03138781, 0.12441775],\n",
       "       [0.97589286, 0.13418169, 0.32895798]])"
      ]
     },
     "execution_count": 3,
     "metadata": {},
     "output_type": "execute_result"
    }
   ],
   "source": [
    "c1 = np.random.choice(range(len(data)))\n",
    "c2 = np.random.choice(range(len(data)))\n",
    "clust_centers = np.vstack([data[c1],data[c2]])\n",
    "clust_centers"
   ]
  },
  {
   "cell_type": "code",
   "execution_count": 4,
   "id": "e6a42b2b",
   "metadata": {},
   "outputs": [],
   "source": [
    "from scipy.cluster.vq import vq"
   ]
  },
  {
   "cell_type": "code",
   "execution_count": 6,
   "id": "f6005e19",
   "metadata": {},
   "outputs": [
    {
     "data": {
      "text/plain": [
       "(array([0, 1, 1, 1, 1, 1, 0, 1, 1, 0, 0, 0, 1, 0, 1, 0, 0, 1, 1, 1, 0, 0,\n",
       "        0, 1, 1, 1, 1, 0, 0, 0]),\n",
       " array([1.00254666, 0.56747959, 0.36940773, 0.59695721, 0.81205617,\n",
       "        0.80646849, 0.28059497, 0.65307748, 0.50147513, 0.23054045,\n",
       "        0.31152311, 0.63803262, 0.60187464, 0.80928566, 0.7462463 ,\n",
       "        0.59479949, 1.04173927, 0.82825532, 0.70382872, 0.7160858 ,\n",
       "        0.22174412, 1.09836317, 0.        , 0.25818902, 1.0357054 ,\n",
       "        0.83381818, 0.        , 1.09873373, 0.35541963, 0.99289528]))"
      ]
     },
     "execution_count": 6,
     "metadata": {},
     "output_type": "execute_result"
    }
   ],
   "source": [
    "#Clusters y distancia al centroide del cluster\n",
    "vq(data,clust_centers)"
   ]
  },
  {
   "cell_type": "code",
   "execution_count": 7,
   "id": "d5ad1d17",
   "metadata": {},
   "outputs": [],
   "source": [
    "from scipy.cluster.vq import kmeans"
   ]
  },
  {
   "cell_type": "code",
   "execution_count": 8,
   "id": "2ab3e200",
   "metadata": {},
   "outputs": [
    {
     "data": {
      "text/plain": [
       "(array([[0.48437822, 0.28578629, 0.48113143],\n",
       "        [0.77537213, 0.59967385, 0.72652973]]),\n",
       " 0.39795427274190165)"
      ]
     },
     "execution_count": 8,
     "metadata": {},
     "output_type": "execute_result"
    }
   ],
   "source": [
    "kmeans(data,clust_centers)"
   ]
  },
  {
   "cell_type": "code",
   "execution_count": 10,
   "id": "734c3aa3",
   "metadata": {},
   "outputs": [
    {
     "data": {
      "text/plain": [
       "(array([[0.43425684, 0.20324443, 0.86662318],\n",
       "        [0.66948556, 0.49969538, 0.42335462]]),\n",
       " 0.3852826451544785)"
      ]
     },
     "execution_count": 10,
     "metadata": {},
     "output_type": "execute_result"
    }
   ],
   "source": [
    "kmeans(data,2)"
   ]
  },
  {
   "cell_type": "code",
   "execution_count": null,
   "id": "7b4751f9",
   "metadata": {},
   "outputs": [],
   "source": []
  }
 ],
 "metadata": {
  "kernelspec": {
   "display_name": "Python 3",
   "language": "python",
   "name": "python3"
  },
  "language_info": {
   "codemirror_mode": {
    "name": "ipython",
    "version": 3
   },
   "file_extension": ".py",
   "mimetype": "text/x-python",
   "name": "python",
   "nbconvert_exporter": "python",
   "pygments_lexer": "ipython3",
   "version": "3.8.8"
  }
 },
 "nbformat": 4,
 "nbformat_minor": 5
}
