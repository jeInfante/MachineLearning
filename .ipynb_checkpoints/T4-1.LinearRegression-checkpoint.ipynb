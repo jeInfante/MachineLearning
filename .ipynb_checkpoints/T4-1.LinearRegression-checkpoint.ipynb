{
 "cells": [
  {
   "cell_type": "markdown",
   "id": "fb9c2a3a",
   "metadata": {},
   "source": [
    "# Modelos de Regresión Lineal\n",
    "## Modelo con Datos Simulados\n",
    "* y = a + bx\n",
    "* x: 100 valores distribuidos según una N(1.5, 2.5)\n",
    "* Ye= 11 + 1.4*x + e\n",
    "* e estará distribuida según una N(0,0.8)"
   ]
  },
  {
   "cell_type": "code",
   "execution_count": 1,
   "id": "9b5ee35d",
   "metadata": {},
   "outputs": [],
   "source": [
    "import pandas as pd\n",
    "import numpy as np"
   ]
  },
  {
   "cell_type": "code",
   "execution_count": 2,
   "id": "d0ad7f95",
   "metadata": {},
   "outputs": [],
   "source": [
    "x = 1.5 + (2.5*np.random.randn(100))"
   ]
  },
  {
   "cell_type": "code",
   "execution_count": 3,
   "id": "dfa2ced6",
   "metadata": {},
   "outputs": [],
   "source": [
    "res = 0 + (0.8*np.random.randn(100))"
   ]
  },
  {
   "cell_type": "code",
   "execution_count": 4,
   "id": "046f4863",
   "metadata": {},
   "outputs": [],
   "source": [
    "y_pred = 11 + (1.4*x)"
   ]
  },
  {
   "cell_type": "code",
   "execution_count": 5,
   "id": "44f69ff0",
   "metadata": {},
   "outputs": [],
   "source": [
    "y_act = 11 + (1.4*x) + res"
   ]
  },
  {
   "cell_type": "code",
   "execution_count": 6,
   "id": "96e4dd87",
   "metadata": {},
   "outputs": [],
   "source": [
    "x_list = x.tolist()\n",
    "y_pred_list = y_pred.tolist()\n",
    "y_act_list = y_act.tolist()"
   ]
  },
  {
   "cell_type": "code",
   "execution_count": 7,
   "id": "779469f7",
   "metadata": {},
   "outputs": [],
   "source": [
    "data = pd.DataFrame(\n",
    "        {\n",
    "            \"x\":x_list,\n",
    "            \"y_actual\":y_act_list,\n",
    "            \"y_prediccion\":y_pred_list\n",
    "        }\n",
    ")"
   ]
  },
  {
   "cell_type": "code",
   "execution_count": 8,
   "id": "71fa1d6c",
   "metadata": {},
   "outputs": [
    {
     "data": {
      "text/html": [
       "<div>\n",
       "<style scoped>\n",
       "    .dataframe tbody tr th:only-of-type {\n",
       "        vertical-align: middle;\n",
       "    }\n",
       "\n",
       "    .dataframe tbody tr th {\n",
       "        vertical-align: top;\n",
       "    }\n",
       "\n",
       "    .dataframe thead th {\n",
       "        text-align: right;\n",
       "    }\n",
       "</style>\n",
       "<table border=\"1\" class=\"dataframe\">\n",
       "  <thead>\n",
       "    <tr style=\"text-align: right;\">\n",
       "      <th></th>\n",
       "      <th>x</th>\n",
       "      <th>y_actual</th>\n",
       "      <th>y_prediccion</th>\n",
       "    </tr>\n",
       "  </thead>\n",
       "  <tbody>\n",
       "    <tr>\n",
       "      <th>0</th>\n",
       "      <td>2.302851</td>\n",
       "      <td>13.020386</td>\n",
       "      <td>14.223991</td>\n",
       "    </tr>\n",
       "    <tr>\n",
       "      <th>1</th>\n",
       "      <td>4.404867</td>\n",
       "      <td>17.137126</td>\n",
       "      <td>17.166814</td>\n",
       "    </tr>\n",
       "    <tr>\n",
       "      <th>2</th>\n",
       "      <td>2.665442</td>\n",
       "      <td>15.079305</td>\n",
       "      <td>14.731618</td>\n",
       "    </tr>\n",
       "    <tr>\n",
       "      <th>3</th>\n",
       "      <td>5.278943</td>\n",
       "      <td>19.562613</td>\n",
       "      <td>18.390520</td>\n",
       "    </tr>\n",
       "    <tr>\n",
       "      <th>4</th>\n",
       "      <td>-1.466853</td>\n",
       "      <td>7.935260</td>\n",
       "      <td>8.946406</td>\n",
       "    </tr>\n",
       "  </tbody>\n",
       "</table>\n",
       "</div>"
      ],
      "text/plain": [
       "          x   y_actual  y_prediccion\n",
       "0  2.302851  13.020386     14.223991\n",
       "1  4.404867  17.137126     17.166814\n",
       "2  2.665442  15.079305     14.731618\n",
       "3  5.278943  19.562613     18.390520\n",
       "4 -1.466853   7.935260      8.946406"
      ]
     },
     "execution_count": 8,
     "metadata": {},
     "output_type": "execute_result"
    }
   ],
   "source": [
    "data.head()"
   ]
  },
  {
   "cell_type": "code",
   "execution_count": 9,
   "id": "7719e2d3",
   "metadata": {},
   "outputs": [],
   "source": [
    "import matplotlib.pyplot as plt"
   ]
  },
  {
   "cell_type": "code",
   "execution_count": 10,
   "id": "43336ab1",
   "metadata": {},
   "outputs": [],
   "source": [
    "y_mean = [np.mean(y_act) for i in range(1,len(x_list)+1)]"
   ]
  },
  {
   "cell_type": "code",
   "execution_count": 11,
   "id": "a222d147",
   "metadata": {},
   "outputs": [
    {
     "data": {
      "image/png": "[encoded data removed]",
      "text/plain": [
       "<Figure size 432x288 with 1 Axes>"
      ]
     },
     "metadata": {
      "needs_background": "light"
     },
     "output_type": "display_data"
    }
   ],
   "source": [
    "%matplotlib inline\n",
    "plt.plot(x,y_pred)\n",
    "plt.plot(x,y_act,\"ro\")\n",
    "plt.plot(x,y_mean)\n",
    "plt.title(\"Valor Actual vs Prediccion\");"
   ]
  },
  {
   "cell_type": "code",
   "execution_count": 12,
   "id": "3938be79",
   "metadata": {},
   "outputs": [],
   "source": [
    "data[\"SSR\"]=(data[\"y_prediccion\"]-np.mean(y_act))**2\n",
    "data[\"SSD\"]=(data[\"y_prediccion\"]-data[\"y_actual\"])**2\n",
    "data[\"SST\"]=(data[\"y_actual\"]-np.mean(y_act))**2"
   ]
  },
  {
   "cell_type": "code",
   "execution_count": 13,
   "id": "427d3872",
   "metadata": {},
   "outputs": [
    {
     "data": {
      "text/html": [
       "<div>\n",
       "<style scoped>\n",
       "    .dataframe tbody tr th:only-of-type {\n",
       "        vertical-align: middle;\n",
       "    }\n",
       "\n",
       "    .dataframe tbody tr th {\n",
       "        vertical-align: top;\n",
       "    }\n",
       "\n",
       "    .dataframe thead th {\n",
       "        text-align: right;\n",
       "    }\n",
       "</style>\n",
       "<table border=\"1\" class=\"dataframe\">\n",
       "  <thead>\n",
       "    <tr style=\"text-align: right;\">\n",
       "      <th></th>\n",
       "      <th>x</th>\n",
       "      <th>y_actual</th>\n",
       "      <th>y_prediccion</th>\n",
       "      <th>SSR</th>\n",
       "      <th>SSD</th>\n",
       "      <th>SST</th>\n",
       "    </tr>\n",
       "  </thead>\n",
       "  <tbody>\n",
       "    <tr>\n",
       "      <th>0</th>\n",
       "      <td>2.302851</td>\n",
       "      <td>13.020386</td>\n",
       "      <td>14.223991</td>\n",
       "      <td>1.576105</td>\n",
       "      <td>1.448666</td>\n",
       "      <td>0.002686</td>\n",
       "    </tr>\n",
       "    <tr>\n",
       "      <th>1</th>\n",
       "      <td>4.404867</td>\n",
       "      <td>17.137126</td>\n",
       "      <td>17.166814</td>\n",
       "      <td>17.625328</td>\n",
       "      <td>0.000881</td>\n",
       "      <td>17.376929</td>\n",
       "    </tr>\n",
       "    <tr>\n",
       "      <th>2</th>\n",
       "      <td>2.665442</td>\n",
       "      <td>15.079305</td>\n",
       "      <td>14.731618</td>\n",
       "      <td>3.108370</td>\n",
       "      <td>0.120886</td>\n",
       "      <td>4.455241</td>\n",
       "    </tr>\n",
       "    <tr>\n",
       "      <th>3</th>\n",
       "      <td>5.278943</td>\n",
       "      <td>19.562613</td>\n",
       "      <td>18.390520</td>\n",
       "      <td>29.397636</td>\n",
       "      <td>1.373801</td>\n",
       "      <td>43.481512</td>\n",
       "    </tr>\n",
       "    <tr>\n",
       "      <th>4</th>\n",
       "      <td>-1.466853</td>\n",
       "      <td>7.935260</td>\n",
       "      <td>8.946406</td>\n",
       "      <td>16.177735</td>\n",
       "      <td>1.022416</td>\n",
       "      <td>25.334121</td>\n",
       "    </tr>\n",
       "  </tbody>\n",
       "</table>\n",
       "</div>"
      ],
      "text/plain": [
       "          x   y_actual  y_prediccion        SSR       SSD        SST\n",
       "0  2.302851  13.020386     14.223991   1.576105  1.448666   0.002686\n",
       "1  4.404867  17.137126     17.166814  17.625328  0.000881  17.376929\n",
       "2  2.665442  15.079305     14.731618   3.108370  0.120886   4.455241\n",
       "3  5.278943  19.562613     18.390520  29.397636  1.373801  43.481512\n",
       "4 -1.466853   7.935260      8.946406  16.177735  1.022416  25.334121"
      ]
     },
     "execution_count": 13,
     "metadata": {},
     "output_type": "execute_result"
    }
   ],
   "source": [
    "data.head()"
   ]
  },
  {
   "cell_type": "markdown",
   "id": "266dc21d",
   "metadata": {},
   "source": [
    "## ¿Como es la predicción de buena?\n",
    "* SST = SSD + SSR\n",
    "* SST : Variabilidad de los datos con respecto de su media\n",
    "* SSD : Diferencia entre los datos originales y las predicciones que el modelo no es capaz de explicar (errores que deberían seguir una distribución normal)\n",
    "* SSR : Diferencia entre la regresión y el valor medio que el modelo busca explicar\n",
    "* R2 = SSR / SST, coeficiente de determinación entre 0 y 1"
   ]
  },
  {
   "cell_type": "code",
   "execution_count": 14,
   "id": "786ba233",
   "metadata": {},
   "outputs": [],
   "source": [
    "SSR =sum(data[\"SSR\"])\n",
    "SSD =sum(data[\"SSD\"])\n",
    "SST =sum(data[\"SST\"])"
   ]
  },
  {
   "cell_type": "code",
   "execution_count": 15,
   "id": "3d713423",
   "metadata": {},
   "outputs": [
    {
     "data": {
      "text/plain": [
       "1298.6547749966978"
      ]
     },
     "execution_count": 15,
     "metadata": {},
     "output_type": "execute_result"
    }
   ],
   "source": [
    "SSR"
   ]
  },
  {
   "cell_type": "code",
   "execution_count": 16,
   "id": "6f31590b",
   "metadata": {},
   "outputs": [
    {
     "data": {
      "text/plain": [
       "52.06923906625511"
      ]
     },
     "execution_count": 16,
     "metadata": {},
     "output_type": "execute_result"
    }
   ],
   "source": [
    "SSD"
   ]
  },
  {
   "cell_type": "code",
   "execution_count": 17,
   "id": "ec056c30",
   "metadata": {},
   "outputs": [
    {
     "data": {
      "text/plain": [
       "1361.2893311230996"
      ]
     },
     "execution_count": 17,
     "metadata": {},
     "output_type": "execute_result"
    }
   ],
   "source": [
    "SST"
   ]
  },
  {
   "cell_type": "code",
   "execution_count": 18,
   "id": "66d3b327",
   "metadata": {},
   "outputs": [
    {
     "data": {
      "text/plain": [
       "1350.7240140629528"
      ]
     },
     "execution_count": 18,
     "metadata": {},
     "output_type": "execute_result"
    }
   ],
   "source": [
    "SSR+SSD"
   ]
  },
  {
   "cell_type": "code",
   "execution_count": 19,
   "id": "e3e9e56f",
   "metadata": {},
   "outputs": [],
   "source": [
    "R2 = SSR/SST"
   ]
  },
  {
   "cell_type": "code",
   "execution_count": 20,
   "id": "4ea16424",
   "metadata": {},
   "outputs": [
    {
     "data": {
      "text/plain": [
       "0.9539887996663232"
      ]
     },
     "execution_count": 20,
     "metadata": {},
     "output_type": "execute_result"
    }
   ],
   "source": [
    "R2"
   ]
  },
  {
   "cell_type": "code",
   "execution_count": 21,
   "id": "3753c471",
   "metadata": {},
   "outputs": [
    {
     "data": {
      "image/png": "[encoded data removed]",
      "text/plain": [
       "<Figure size 432x288 with 1 Axes>"
      ]
     },
     "metadata": {
      "needs_background": "light"
     },
     "output_type": "display_data"
    }
   ],
   "source": [
    "plt.hist(data[\"y_actual\"]-np.mean(y_act));\n",
    "#Errores se comportan como normal"
   ]
  },
  {
   "cell_type": "markdown",
   "id": "9f1bf188",
   "metadata": {},
   "source": [
    "## Obteniendo la recta de regresión\n",
    "\n",
    "* y = a + b\n",
    "* b = sum((xi - x_m)*(y_i-y_m))/sum((xi-x_m)^2)\n",
    "* a = y_n - b * x_m"
   ]
  },
  {
   "cell_type": "code",
   "execution_count": 22,
   "id": "d6f6ec79",
   "metadata": {},
   "outputs": [],
   "source": [
    "x_mean = np.mean(data[\"x\"])\n",
    "y_mean = np.mean(data[\"y_actual\"])"
   ]
  },
  {
   "cell_type": "code",
   "execution_count": 23,
   "id": "1b28595a",
   "metadata": {},
   "outputs": [],
   "source": [
    "data[\"beta_n\"] = (data[\"x\"]-x_mean)*(data[\"y_actual\"]-y_mean)\n",
    "data[\"beta_d\"] = (data[\"x\"]-x_mean)**2"
   ]
  },
  {
   "cell_type": "code",
   "execution_count": 24,
   "id": "4652b567",
   "metadata": {},
   "outputs": [],
   "source": [
    "beta = sum(data[\"beta_n\"])/sum(data[\"beta_d\"])"
   ]
  },
  {
   "cell_type": "code",
   "execution_count": 25,
   "id": "b2041768",
   "metadata": {},
   "outputs": [],
   "source": [
    "alpha = y_mean - beta*x_mean"
   ]
  },
  {
   "cell_type": "code",
   "execution_count": 26,
   "id": "7bbb2f2b",
   "metadata": {},
   "outputs": [
    {
     "data": {
      "text/plain": [
       "(10.997793542811852, 1.4056985296162294)"
      ]
     },
     "execution_count": 26,
     "metadata": {},
     "output_type": "execute_result"
    }
   ],
   "source": [
    "alpha, beta"
   ]
  },
  {
   "cell_type": "markdown",
   "id": "a45bfb2e",
   "metadata": {},
   "source": [
    "El modelo lineal obtenido por regresión es: y = 10.9861 + 1.3977 * x"
   ]
  },
  {
   "cell_type": "code",
   "execution_count": 27,
   "id": "ecdf8801",
   "metadata": {},
   "outputs": [],
   "source": [
    "data[\"y_model\"] = alpha + beta *data[\"x\"]"
   ]
  },
  {
   "cell_type": "code",
   "execution_count": 28,
   "id": "1fce96c5",
   "metadata": {},
   "outputs": [
    {
     "data": {
      "text/html": [
       "<div>\n",
       "<style scoped>\n",
       "    .dataframe tbody tr th:only-of-type {\n",
       "        vertical-align: middle;\n",
       "    }\n",
       "\n",
       "    .dataframe tbody tr th {\n",
       "        vertical-align: top;\n",
       "    }\n",
       "\n",
       "    .dataframe thead th {\n",
       "        text-align: right;\n",
       "    }\n",
       "</style>\n",
       "<table border=\"1\" class=\"dataframe\">\n",
       "  <thead>\n",
       "    <tr style=\"text-align: right;\">\n",
       "      <th></th>\n",
       "      <th>x</th>\n",
       "      <th>y_actual</th>\n",
       "      <th>y_prediccion</th>\n",
       "      <th>SSR</th>\n",
       "      <th>SSD</th>\n",
       "      <th>SST</th>\n",
       "      <th>beta_n</th>\n",
       "      <th>beta_d</th>\n",
       "      <th>y_model</th>\n",
       "    </tr>\n",
       "  </thead>\n",
       "  <tbody>\n",
       "    <tr>\n",
       "      <th>0</th>\n",
       "      <td>2.302851</td>\n",
       "      <td>13.020386</td>\n",
       "      <td>14.223991</td>\n",
       "      <td>1.576105</td>\n",
       "      <td>1.448666</td>\n",
       "      <td>0.002686</td>\n",
       "      <td>0.046687</td>\n",
       "      <td>0.811560</td>\n",
       "      <td>14.234908</td>\n",
       "    </tr>\n",
       "    <tr>\n",
       "      <th>1</th>\n",
       "      <td>4.404867</td>\n",
       "      <td>17.137126</td>\n",
       "      <td>17.166814</td>\n",
       "      <td>17.625328</td>\n",
       "      <td>0.000881</td>\n",
       "      <td>17.376929</td>\n",
       "      <td>12.517710</td>\n",
       "      <td>9.017304</td>\n",
       "      <td>17.189709</td>\n",
       "    </tr>\n",
       "    <tr>\n",
       "      <th>2</th>\n",
       "      <td>2.665442</td>\n",
       "      <td>15.079305</td>\n",
       "      <td>14.731618</td>\n",
       "      <td>3.108370</td>\n",
       "      <td>0.120886</td>\n",
       "      <td>4.455241</td>\n",
       "      <td>2.666834</td>\n",
       "      <td>1.596323</td>\n",
       "      <td>14.744601</td>\n",
       "    </tr>\n",
       "    <tr>\n",
       "      <th>3</th>\n",
       "      <td>5.278943</td>\n",
       "      <td>19.562613</td>\n",
       "      <td>18.390520</td>\n",
       "      <td>29.397636</td>\n",
       "      <td>1.373801</td>\n",
       "      <td>43.481512</td>\n",
       "      <td>25.564861</td>\n",
       "      <td>15.030805</td>\n",
       "      <td>18.418396</td>\n",
       "    </tr>\n",
       "    <tr>\n",
       "      <th>4</th>\n",
       "      <td>-1.466853</td>\n",
       "      <td>7.935260</td>\n",
       "      <td>8.946406</td>\n",
       "      <td>16.177735</td>\n",
       "      <td>1.022416</td>\n",
       "      <td>25.334121</td>\n",
       "      <td>14.439724</td>\n",
       "      <td>8.230229</td>\n",
       "      <td>8.935840</td>\n",
       "    </tr>\n",
       "  </tbody>\n",
       "</table>\n",
       "</div>"
      ],
      "text/plain": [
       "          x   y_actual  y_prediccion        SSR       SSD        SST  \\\n",
       "0  2.302851  13.020386     14.223991   1.576105  1.448666   0.002686   \n",
       "1  4.404867  17.137126     17.166814  17.625328  0.000881  17.376929   \n",
       "2  2.665442  15.079305     14.731618   3.108370  0.120886   4.455241   \n",
       "3  5.278943  19.562613     18.390520  29.397636  1.373801  43.481512   \n",
       "4 -1.466853   7.935260      8.946406  16.177735  1.022416  25.334121   \n",
       "\n",
       "      beta_n     beta_d    y_model  \n",
       "0   0.046687   0.811560  14.234908  \n",
       "1  12.517710   9.017304  17.189709  \n",
       "2   2.666834   1.596323  14.744601  \n",
       "3  25.564861  15.030805  18.418396  \n",
       "4  14.439724   8.230229   8.935840  "
      ]
     },
     "execution_count": 28,
     "metadata": {},
     "output_type": "execute_result"
    }
   ],
   "source": [
    "data.head()"
   ]
  },
  {
   "cell_type": "code",
   "execution_count": 29,
   "id": "0a3cbfb4",
   "metadata": {},
   "outputs": [],
   "source": [
    "SSR =sum((data[\"y_model\"]-y_mean)**2)\n",
    "SSD=sum((data[\"y_model\"]-data[\"y_actual\"])**2)\n",
    "SST=sum((data[\"y_actual\"]-y_mean)**2)"
   ]
  },
  {
   "cell_type": "code",
   "execution_count": 30,
   "id": "ead91666",
   "metadata": {},
   "outputs": [
    {
     "data": {
      "text/plain": [
       "(1309.2449521572435, 52.044378965855095, 1361.2893311231)"
      ]
     },
     "execution_count": 30,
     "metadata": {},
     "output_type": "execute_result"
    }
   ],
   "source": [
    "SSR, SSD, SST"
   ]
  },
  {
   "cell_type": "code",
   "execution_count": 31,
   "id": "fc1396ed",
   "metadata": {},
   "outputs": [
    {
     "data": {
      "text/plain": [
       "0.9617683193602065"
      ]
     },
     "execution_count": 31,
     "metadata": {},
     "output_type": "execute_result"
    }
   ],
   "source": [
    "R2 = SSR/SST\n",
    "R2"
   ]
  },
  {
   "cell_type": "code",
   "execution_count": 32,
   "id": "f6edb58f",
   "metadata": {},
   "outputs": [
    {
     "data": {
      "image/png": "[encoded data removed]",
      "text/plain": [
       "<Figure size 432x288 with 1 Axes>"
      ]
     },
     "metadata": {
      "needs_background": "light"
     },
     "output_type": "display_data"
    }
   ],
   "source": [
    "y_mean1 = [np.mean(y_act) for i in range(1,len(x_list)+1)]\n",
    "%matplotlib inline\n",
    "plt.plot(x,y_pred)\n",
    "plt.plot(x,y_act,\"ro\")\n",
    "plt.plot(x,y_mean1, \"g\")\n",
    "plt.plot(x,data[\"y_model\"])\n",
    "plt.title(\"Valor Actual vs Prediccion\");"
   ]
  },
  {
   "cell_type": "markdown",
   "id": "6fe66116",
   "metadata": {},
   "source": [
    "## Error estandar de los residuos (RSE)"
   ]
  },
  {
   "cell_type": "code",
   "execution_count": 33,
   "id": "a56aed25",
   "metadata": {},
   "outputs": [
    {
     "data": {
      "text/plain": [
       "0.7287421296235845"
      ]
     },
     "execution_count": 33,
     "metadata": {},
     "output_type": "execute_result"
    }
   ],
   "source": [
    "RSE = np.sqrt(SSD/(len(data)-2))\n",
    "RSE"
   ]
  },
  {
   "cell_type": "code",
   "execution_count": 34,
   "id": "c672d5a9",
   "metadata": {},
   "outputs": [
    {
     "data": {
      "text/plain": [
       "12.968561229701617"
      ]
     },
     "execution_count": 34,
     "metadata": {},
     "output_type": "execute_result"
    }
   ],
   "source": [
    "y_mean"
   ]
  },
  {
   "cell_type": "code",
   "execution_count": 35,
   "id": "08079413",
   "metadata": {},
   "outputs": [
    {
     "data": {
      "text/plain": [
       "0.05619298214473955"
      ]
     },
     "execution_count": 35,
     "metadata": {},
     "output_type": "execute_result"
    }
   ],
   "source": [
    "#Promedio de error\n",
    "RSE/y_mean"
   ]
  },
  {
   "cell_type": "code",
   "execution_count": null,
   "id": "01ba4950",
   "metadata": {},
   "outputs": [],
   "source": []
  },
  {
   "cell_type": "code",
   "execution_count": null,
   "id": "30180f0f",
   "metadata": {},
   "outputs": [],
   "source": []
  },
  {
   "cell_type": "code",
   "execution_count": null,
   "id": "8386bed3",
   "metadata": {},
   "outputs": [],
   "source": []
  },
  {
   "cell_type": "code",
   "execution_count": null,
   "id": "045a2223",
   "metadata": {},
   "outputs": [],
   "source": []
  }
 ],
 "metadata": {
  "kernelspec": {
   "display_name": "Python 3",
   "language": "python",
   "name": "python3"
  },
  "language_info": {
   "codemirror_mode": {
    "name": "ipython",
    "version": 3
   },
   "file_extension": ".py",
   "mimetype": "text/x-python",
   "name": "python",
   "nbconvert_exporter": "python",
   "pygments_lexer": "ipython3",
   "version": "3.8.8"
  }
 },
 "nbformat": 4,
 "nbformat_minor": 5
}
